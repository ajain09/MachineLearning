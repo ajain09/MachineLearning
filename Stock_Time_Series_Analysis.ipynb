{
  "nbformat": 4,
  "nbformat_minor": 0,
  "metadata": {
    "colab": {
      "name": "Stock-Time-Series-Analysis.ipynb",
      "provenance": []
    },
    "kernelspec": {
      "display_name": "Python 3",
      "name": "python3"
    }
  },
  "cells": [
    {
      "cell_type": "markdown",
      "metadata": {
        "id": "6plGWByfGAgX"
      },
      "source": [
        "Problem Statement:\n",
        "Stock-Time-Series-Analysis\n",
        "Mathematical modeling for financial time series data.\n",
        "Use LSTMs for predicting the price of stocks of IBM for the year 2017\n",
        "\n",
        "The data is presented in a couple of formats keeping in mind the computational limitations.\n",
        "There are files containing 13 years of stock data (in the all_stocks_2006-01-01_to_2018-01-01.csv and corresponding folder) and a smaller version of the dataset (all_stocks_2017-01-01_to_2018-01-01.csv) with only the past year's stock data for those wishing to use something more manageable in size.\n",
        "\n",
        "The folder individual_stocks_2006-01-01_to_2018-01-01 contains files of data for individual stocks, labelled by their stock ticker name. The all_stocks_2006-01-01_to_2018-01-01.csv and all_stocks_2017-01-01_to_2018-01-01.csv contain this same data, presented in merged .csv files.\n",
        "Depending on the intended use (graphing, modelling etc.) the user may prefer one of these given formats.\n",
        "\n",
        "All the files have the following columns: \n",
        "\n",
        "* Date - in format: yy-mm-dd\n",
        "* Open - price of the stock at market open (this is NYSE data so all in USD)\n",
        "* High - Highest price reached in the day\n",
        "* Low - Lowest price reached in the day\n",
        "*  Close - price of the stock at market close\n",
        "* Volume - Number of shares traded\n",
        "* Name - the stock's ticker name\n"
      ]
    },
    {
      "cell_type": "code",
      "metadata": {
        "id": "fb9aNCd3zold"
      },
      "source": [
        "#import libraries\n",
        "\n",
        "import numpy as np\n",
        "import pandas as pd\n",
        "from tensorflow.keras.models import Sequential\n",
        "from tensorflow.keras.layers import LSTM\n",
        "from keras.layers.core import Dense, Activation, Dropout\n",
        "from tensorflow.keras.layers import Flatten\n",
        "import matplotlib.pyplot as plt\n",
        "from sklearn.preprocessing import MinMaxScaler\n",
        "#from sklearn.model_selection import train_test_split\n",
        "from sklearn.metrics import mean_squared_error"
      ],
      "execution_count": null,
      "outputs": []
    },
    {
      "cell_type": "code",
      "metadata": {
        "colab": {
          "base_uri": "https://localhost:8080/",
          "height": 194
        },
        "id": "f3-Sy1Cny2UQ",
        "outputId": "c80a15aa-b032-4124-cfd3-4a820f6659eb"
      },
      "source": [
        "#df = pd.read_csv('https://raw.githubusercontent.com/ajain09/Coursera/main/all_stocks_2017-01-01_to_2018-01-01.csv')   #from 2017 to 2018\n",
        "df = pd.read_csv('https://raw.githubusercontent.com/ajain09/Coursera/main/all_stocks_2006-01-01_to_2018-01-01.csv') #from 2006 to 2018\n",
        "\n",
        "df.head()"
      ],
      "execution_count": null,
      "outputs": [
        {
          "output_type": "execute_result",
          "data": {
            "text/html": [
              "<div>\n",
              "<style scoped>\n",
              "    .dataframe tbody tr th:only-of-type {\n",
              "        vertical-align: middle;\n",
              "    }\n",
              "\n",
              "    .dataframe tbody tr th {\n",
              "        vertical-align: top;\n",
              "    }\n",
              "\n",
              "    .dataframe thead th {\n",
              "        text-align: right;\n",
              "    }\n",
              "</style>\n",
              "<table border=\"1\" class=\"dataframe\">\n",
              "  <thead>\n",
              "    <tr style=\"text-align: right;\">\n",
              "      <th></th>\n",
              "      <th>Date</th>\n",
              "      <th>Open</th>\n",
              "      <th>High</th>\n",
              "      <th>Low</th>\n",
              "      <th>Close</th>\n",
              "      <th>Volume</th>\n",
              "      <th>Name</th>\n",
              "    </tr>\n",
              "  </thead>\n",
              "  <tbody>\n",
              "    <tr>\n",
              "      <th>0</th>\n",
              "      <td>2006-01-03</td>\n",
              "      <td>77.76</td>\n",
              "      <td>79.35</td>\n",
              "      <td>77.24</td>\n",
              "      <td>79.11</td>\n",
              "      <td>3117200</td>\n",
              "      <td>MMM</td>\n",
              "    </tr>\n",
              "    <tr>\n",
              "      <th>1</th>\n",
              "      <td>2006-01-04</td>\n",
              "      <td>79.49</td>\n",
              "      <td>79.49</td>\n",
              "      <td>78.25</td>\n",
              "      <td>78.71</td>\n",
              "      <td>2558000</td>\n",
              "      <td>MMM</td>\n",
              "    </tr>\n",
              "    <tr>\n",
              "      <th>2</th>\n",
              "      <td>2006-01-05</td>\n",
              "      <td>78.41</td>\n",
              "      <td>78.65</td>\n",
              "      <td>77.56</td>\n",
              "      <td>77.99</td>\n",
              "      <td>2529500</td>\n",
              "      <td>MMM</td>\n",
              "    </tr>\n",
              "    <tr>\n",
              "      <th>3</th>\n",
              "      <td>2006-01-06</td>\n",
              "      <td>78.64</td>\n",
              "      <td>78.90</td>\n",
              "      <td>77.64</td>\n",
              "      <td>78.63</td>\n",
              "      <td>2479500</td>\n",
              "      <td>MMM</td>\n",
              "    </tr>\n",
              "    <tr>\n",
              "      <th>4</th>\n",
              "      <td>2006-01-09</td>\n",
              "      <td>78.50</td>\n",
              "      <td>79.83</td>\n",
              "      <td>78.46</td>\n",
              "      <td>79.02</td>\n",
              "      <td>1845600</td>\n",
              "      <td>MMM</td>\n",
              "    </tr>\n",
              "  </tbody>\n",
              "</table>\n",
              "</div>"
            ],
            "text/plain": [
              "         Date   Open   High    Low  Close   Volume Name\n",
              "0  2006-01-03  77.76  79.35  77.24  79.11  3117200  MMM\n",
              "1  2006-01-04  79.49  79.49  78.25  78.71  2558000  MMM\n",
              "2  2006-01-05  78.41  78.65  77.56  77.99  2529500  MMM\n",
              "3  2006-01-06  78.64  78.90  77.64  78.63  2479500  MMM\n",
              "4  2006-01-09  78.50  79.83  78.46  79.02  1845600  MMM"
            ]
          },
          "metadata": {
            "tags": []
          },
          "execution_count": 2
        }
      ]
    },
    {
      "cell_type": "code",
      "metadata": {
        "colab": {
          "base_uri": "https://localhost:8080/"
        },
        "id": "h05bRD7j0wng",
        "outputId": "2a8bc0d9-aee9-46a1-8e97-e64ddf8eac45"
      },
      "source": [
        "#Deal with column Name\n",
        "\n",
        "df['Name'].value_counts()"
      ],
      "execution_count": null,
      "outputs": [
        {
          "output_type": "execute_result",
          "data": {
            "text/plain": [
              "PG       3020\n",
              "GE       3020\n",
              "JPM      3020\n",
              "GS       3020\n",
              "MMM      3020\n",
              "NKE      3020\n",
              "AXP      3020\n",
              "HD       3020\n",
              "PFE      3020\n",
              "UTX      3020\n",
              "UNH      3020\n",
              "JNJ      3020\n",
              "DIS      3020\n",
              "TRV      3020\n",
              "KO       3020\n",
              "IBM      3020\n",
              "BA       3020\n",
              "CVX      3020\n",
              "VZ       3020\n",
              "MCD      3020\n",
              "XOM      3020\n",
              "WMT      3020\n",
              "CAT      3020\n",
              "AMZN     3019\n",
              "AAPL     3019\n",
              "GOOGL    3019\n",
              "MSFT     3019\n",
              "AABA     3019\n",
              "MRK      3019\n",
              "INTC     3019\n",
              "CSCO     3019\n",
              "Name: Name, dtype: int64"
            ]
          },
          "metadata": {
            "tags": []
          },
          "execution_count": 3
        }
      ]
    },
    {
      "cell_type": "code",
      "metadata": {
        "colab": {
          "base_uri": "https://localhost:8080/"
        },
        "id": "UhS8sQ55GaIB",
        "outputId": "ce0378b7-4bfd-4233-9c79-e5cd15f5ccfb"
      },
      "source": [
        "df = df[df.Name == 'IBM']\n",
        "df.shape"
      ],
      "execution_count": null,
      "outputs": [
        {
          "output_type": "execute_result",
          "data": {
            "text/plain": [
              "(3020, 7)"
            ]
          },
          "metadata": {
            "tags": []
          },
          "execution_count": 4
        }
      ]
    },
    {
      "cell_type": "markdown",
      "metadata": {
        "id": "xCBQkGwe1yIJ"
      },
      "source": [
        "Column Name is not useful for prediction so we will remove it."
      ]
    },
    {
      "cell_type": "code",
      "metadata": {
        "id": "m-pB5VD91fq8"
      },
      "source": [
        "df.drop(columns=['Name'],inplace=True)"
      ],
      "execution_count": null,
      "outputs": []
    },
    {
      "cell_type": "code",
      "metadata": {
        "colab": {
          "base_uri": "https://localhost:8080/"
        },
        "id": "fJxg3NAVG9w6",
        "outputId": "ae9daf5f-ce4d-4889-b38a-7d1115182110"
      },
      "source": [
        "df.info()"
      ],
      "execution_count": null,
      "outputs": [
        {
          "output_type": "stream",
          "text": [
            "<class 'pandas.core.frame.DataFrame'>\n",
            "Int64Index: 3020 entries, 39258 to 42277\n",
            "Data columns (total 6 columns):\n",
            " #   Column  Non-Null Count  Dtype  \n",
            "---  ------  --------------  -----  \n",
            " 0   Date    3020 non-null   object \n",
            " 1   Open    3019 non-null   float64\n",
            " 2   High    3020 non-null   float64\n",
            " 3   Low     3019 non-null   float64\n",
            " 4   Close   3020 non-null   float64\n",
            " 5   Volume  3020 non-null   int64  \n",
            "dtypes: float64(4), int64(1), object(1)\n",
            "memory usage: 165.2+ KB\n"
          ],
          "name": "stdout"
        }
      ]
    },
    {
      "cell_type": "markdown",
      "metadata": {
        "id": "FAwqEhazHDyg"
      },
      "source": [
        "\n",
        "*   3020 rows 6 columns.\n",
        "*   Columns Open and Low have one missing value each. Replace it with respective average.\n",
        "*   Date is in object. Convert it to datetime.\n",
        "\n",
        "\n"
      ]
    },
    {
      "cell_type": "code",
      "metadata": {
        "id": "WGO0xaFlYiyo"
      },
      "source": [
        "df['Date'] = pd.to_datetime(df['Date'])"
      ],
      "execution_count": null,
      "outputs": []
    },
    {
      "cell_type": "markdown",
      "metadata": {
        "id": "uE5Quv6bOJ1K"
      },
      "source": [
        "Extract year"
      ]
    },
    {
      "cell_type": "code",
      "metadata": {
        "colab": {
          "base_uri": "https://localhost:8080/",
          "height": 194
        },
        "id": "SUjHN3dOOMuZ",
        "outputId": "334be4b3-cb53-4e8b-991f-4e4714cf1a56"
      },
      "source": [
        "df['Year']=pd.DatetimeIndex(df['Date']).year\n",
        "df.tail()"
      ],
      "execution_count": null,
      "outputs": [
        {
          "output_type": "execute_result",
          "data": {
            "text/html": [
              "<div>\n",
              "<style scoped>\n",
              "    .dataframe tbody tr th:only-of-type {\n",
              "        vertical-align: middle;\n",
              "    }\n",
              "\n",
              "    .dataframe tbody tr th {\n",
              "        vertical-align: top;\n",
              "    }\n",
              "\n",
              "    .dataframe thead th {\n",
              "        text-align: right;\n",
              "    }\n",
              "</style>\n",
              "<table border=\"1\" class=\"dataframe\">\n",
              "  <thead>\n",
              "    <tr style=\"text-align: right;\">\n",
              "      <th></th>\n",
              "      <th>Date</th>\n",
              "      <th>Open</th>\n",
              "      <th>High</th>\n",
              "      <th>Low</th>\n",
              "      <th>Close</th>\n",
              "      <th>Volume</th>\n",
              "      <th>Year</th>\n",
              "    </tr>\n",
              "  </thead>\n",
              "  <tbody>\n",
              "    <tr>\n",
              "      <th>42273</th>\n",
              "      <td>2017-12-22</td>\n",
              "      <td>151.82</td>\n",
              "      <td>153.00</td>\n",
              "      <td>151.50</td>\n",
              "      <td>152.50</td>\n",
              "      <td>2990583</td>\n",
              "      <td>2017</td>\n",
              "    </tr>\n",
              "    <tr>\n",
              "      <th>42274</th>\n",
              "      <td>2017-12-26</td>\n",
              "      <td>152.51</td>\n",
              "      <td>153.86</td>\n",
              "      <td>152.50</td>\n",
              "      <td>152.83</td>\n",
              "      <td>2479017</td>\n",
              "      <td>2017</td>\n",
              "    </tr>\n",
              "    <tr>\n",
              "      <th>42275</th>\n",
              "      <td>2017-12-27</td>\n",
              "      <td>152.95</td>\n",
              "      <td>153.18</td>\n",
              "      <td>152.61</td>\n",
              "      <td>153.13</td>\n",
              "      <td>2149257</td>\n",
              "      <td>2017</td>\n",
              "    </tr>\n",
              "    <tr>\n",
              "      <th>42276</th>\n",
              "      <td>2017-12-28</td>\n",
              "      <td>153.20</td>\n",
              "      <td>154.12</td>\n",
              "      <td>153.20</td>\n",
              "      <td>154.04</td>\n",
              "      <td>2687624</td>\n",
              "      <td>2017</td>\n",
              "    </tr>\n",
              "    <tr>\n",
              "      <th>42277</th>\n",
              "      <td>2017-12-29</td>\n",
              "      <td>154.17</td>\n",
              "      <td>154.72</td>\n",
              "      <td>153.42</td>\n",
              "      <td>153.42</td>\n",
              "      <td>3327087</td>\n",
              "      <td>2017</td>\n",
              "    </tr>\n",
              "  </tbody>\n",
              "</table>\n",
              "</div>"
            ],
            "text/plain": [
              "            Date    Open    High     Low   Close   Volume  Year\n",
              "42273 2017-12-22  151.82  153.00  151.50  152.50  2990583  2017\n",
              "42274 2017-12-26  152.51  153.86  152.50  152.83  2479017  2017\n",
              "42275 2017-12-27  152.95  153.18  152.61  153.13  2149257  2017\n",
              "42276 2017-12-28  153.20  154.12  153.20  154.04  2687624  2017\n",
              "42277 2017-12-29  154.17  154.72  153.42  153.42  3327087  2017"
            ]
          },
          "metadata": {
            "tags": []
          },
          "execution_count": 8
        }
      ]
    },
    {
      "cell_type": "code",
      "metadata": {
        "colab": {
          "base_uri": "https://localhost:8080/",
          "height": 282
        },
        "id": "HQES124D27Al",
        "outputId": "78675002-334f-408e-ccda-2e7957fb90d6"
      },
      "source": [
        "df.describe()"
      ],
      "execution_count": null,
      "outputs": [
        {
          "output_type": "execute_result",
          "data": {
            "text/html": [
              "<div>\n",
              "<style scoped>\n",
              "    .dataframe tbody tr th:only-of-type {\n",
              "        vertical-align: middle;\n",
              "    }\n",
              "\n",
              "    .dataframe tbody tr th {\n",
              "        vertical-align: top;\n",
              "    }\n",
              "\n",
              "    .dataframe thead th {\n",
              "        text-align: right;\n",
              "    }\n",
              "</style>\n",
              "<table border=\"1\" class=\"dataframe\">\n",
              "  <thead>\n",
              "    <tr style=\"text-align: right;\">\n",
              "      <th></th>\n",
              "      <th>Open</th>\n",
              "      <th>High</th>\n",
              "      <th>Low</th>\n",
              "      <th>Close</th>\n",
              "      <th>Volume</th>\n",
              "      <th>Year</th>\n",
              "    </tr>\n",
              "  </thead>\n",
              "  <tbody>\n",
              "    <tr>\n",
              "      <th>count</th>\n",
              "      <td>3019.000000</td>\n",
              "      <td>3020.000000</td>\n",
              "      <td>3019.000000</td>\n",
              "      <td>3020.000000</td>\n",
              "      <td>3.020000e+03</td>\n",
              "      <td>3020.000000</td>\n",
              "    </tr>\n",
              "    <tr>\n",
              "      <th>mean</th>\n",
              "      <td>145.515545</td>\n",
              "      <td>146.681738</td>\n",
              "      <td>144.471597</td>\n",
              "      <td>145.617278</td>\n",
              "      <td>5.773301e+06</td>\n",
              "      <td>2011.500000</td>\n",
              "    </tr>\n",
              "    <tr>\n",
              "      <th>std</th>\n",
              "      <td>37.554946</td>\n",
              "      <td>37.613446</td>\n",
              "      <td>37.477641</td>\n",
              "      <td>37.529387</td>\n",
              "      <td>3.192831e+06</td>\n",
              "      <td>3.451601</td>\n",
              "    </tr>\n",
              "    <tr>\n",
              "      <th>min</th>\n",
              "      <td>72.740000</td>\n",
              "      <td>73.940000</td>\n",
              "      <td>69.500000</td>\n",
              "      <td>71.740000</td>\n",
              "      <td>2.542560e+05</td>\n",
              "      <td>2006.000000</td>\n",
              "    </tr>\n",
              "    <tr>\n",
              "      <th>25%</th>\n",
              "      <td>116.405000</td>\n",
              "      <td>117.765000</td>\n",
              "      <td>115.490000</td>\n",
              "      <td>116.525000</td>\n",
              "      <td>3.622681e+06</td>\n",
              "      <td>2008.750000</td>\n",
              "    </tr>\n",
              "    <tr>\n",
              "      <th>50%</th>\n",
              "      <td>149.610000</td>\n",
              "      <td>150.330000</td>\n",
              "      <td>148.470000</td>\n",
              "      <td>149.315000</td>\n",
              "      <td>4.928852e+06</td>\n",
              "      <td>2011.000000</td>\n",
              "    </tr>\n",
              "    <tr>\n",
              "      <th>75%</th>\n",
              "      <td>178.445000</td>\n",
              "      <td>179.762500</td>\n",
              "      <td>177.330000</td>\n",
              "      <td>178.685000</td>\n",
              "      <td>6.965014e+06</td>\n",
              "      <td>2014.250000</td>\n",
              "    </tr>\n",
              "    <tr>\n",
              "      <th>max</th>\n",
              "      <td>215.380000</td>\n",
              "      <td>215.900000</td>\n",
              "      <td>214.300000</td>\n",
              "      <td>215.800000</td>\n",
              "      <td>3.077428e+07</td>\n",
              "      <td>2017.000000</td>\n",
              "    </tr>\n",
              "  </tbody>\n",
              "</table>\n",
              "</div>"
            ],
            "text/plain": [
              "              Open         High  ...        Volume         Year\n",
              "count  3019.000000  3020.000000  ...  3.020000e+03  3020.000000\n",
              "mean    145.515545   146.681738  ...  5.773301e+06  2011.500000\n",
              "std      37.554946    37.613446  ...  3.192831e+06     3.451601\n",
              "min      72.740000    73.940000  ...  2.542560e+05  2006.000000\n",
              "25%     116.405000   117.765000  ...  3.622681e+06  2008.750000\n",
              "50%     149.610000   150.330000  ...  4.928852e+06  2011.000000\n",
              "75%     178.445000   179.762500  ...  6.965014e+06  2014.250000\n",
              "max     215.380000   215.900000  ...  3.077428e+07  2017.000000\n",
              "\n",
              "[8 rows x 6 columns]"
            ]
          },
          "metadata": {
            "tags": []
          },
          "execution_count": 9
        }
      ]
    },
    {
      "cell_type": "markdown",
      "metadata": {
        "id": "3Hb_OyN_YTks"
      },
      "source": [
        "Replace null values in columns Open and low with respective averages"
      ]
    },
    {
      "cell_type": "code",
      "metadata": {
        "id": "c8FraohCHlcR"
      },
      "source": [
        "tofill = {'Low':144.47,'Open':145.51}\n",
        "df.fillna(value = tofill,inplace=True)"
      ],
      "execution_count": null,
      "outputs": []
    },
    {
      "cell_type": "code",
      "metadata": {
        "colab": {
          "base_uri": "https://localhost:8080/",
          "height": 338
        },
        "id": "WXCvMKudYrRE",
        "outputId": "de5e494f-7080-47f8-b3c7-1b3d609ff9e1"
      },
      "source": [
        "plt.figure(figsize=(15,5))\n",
        "\n",
        "plt.plot(df['Open'], color='yellow', label = 'Open')\n",
        "plt.plot(df['Close'], color='green', label = 'Close')\n",
        "plt.plot(df['Low'], color='blue', label = 'Low')\n",
        "plt.plot(df['High'], color='red', label = 'High')\n",
        "plt.legend()"
      ],
      "execution_count": null,
      "outputs": [
        {
          "output_type": "execute_result",
          "data": {
            "text/plain": [
              "<matplotlib.legend.Legend at 0x7f1a3aa3ea50>"
            ]
          },
          "metadata": {
            "tags": []
          },
          "execution_count": 11
        },
        {
          "output_type": "display_data",
          "data": {
            "image/png": "[encoded data removed]",
            "text/plain": [
              "<Figure size 1080x360 with 1 Axes>"
            ]
          },
          "metadata": {
            "tags": []
          }
        }
      ]
    },
    {
      "cell_type": "markdown",
      "metadata": {
        "id": "NZPfHq14WFKC"
      },
      "source": [
        "SPLIT DATA"
      ]
    },
    {
      "cell_type": "code",
      "metadata": {
        "id": "8aWblA-JWITm"
      },
      "source": [
        "to_pred = df.loc[df['Year']==2017].copy()\n",
        "to_train = df.loc[df['Year']!=2017].copy()"
      ],
      "execution_count": null,
      "outputs": []
    },
    {
      "cell_type": "markdown",
      "metadata": {
        "id": "PhG5klsfhg0O"
      },
      "source": [
        "NORMALISE DATA"
      ]
    },
    {
      "cell_type": "code",
      "metadata": {
        "id": "srdLrbg9kX53"
      },
      "source": [
        "X = to_train[['Open', 'Low', 'High', 'Volume']].copy()\n",
        "y = to_train['Close'].copy()\n",
        "\n",
        "X_totest = to_pred[['Open', 'Low', 'High', 'Volume']].copy()\n",
        "y_totest = to_pred['Close'].copy()"
      ],
      "execution_count": null,
      "outputs": []
    },
    {
      "cell_type": "code",
      "metadata": {
        "colab": {
          "base_uri": "https://localhost:8080/"
        },
        "id": "gChe4UftgOI4",
        "outputId": "013326c1-cc22-4fa7-d73d-43391d15c230"
      },
      "source": [
        "scaler = MinMaxScaler()\n",
        "X[['Open', 'Low', 'High', 'Volume']] = scaler.fit_transform(X)\n",
        "y = scaler.fit_transform(y.values.reshape(-1,1))\n",
        "\n",
        "X_totest[['Open', 'Low', 'High', 'Volume']] = scaler.fit_transform(X_totest)\n",
        "y_totest = scaler.fit_transform(y_totest.values.reshape(-1,1))\n",
        "\n",
        "X.shape,y.shape,X_totest.shape,y_totest.shape"
      ],
      "execution_count": null,
      "outputs": [
        {
          "output_type": "execute_result",
          "data": {
            "text/plain": [
              "((2769, 4), (2769, 1), (251, 4), (251, 1))"
            ]
          },
          "metadata": {
            "tags": []
          },
          "execution_count": 54
        }
      ]
    },
    {
      "cell_type": "markdown",
      "metadata": {
        "id": "hI1efc7bjOl8"
      },
      "source": [
        "CREATING TRAIN TEST DATASET"
      ]
    },
    {
      "cell_type": "code",
      "metadata": {
        "id": "MSIE-dptrUOP"
      },
      "source": [
        "n_features = X.shape[1]\n",
        "window = 22\n",
        "train_size = 0.9"
      ],
      "execution_count": null,
      "outputs": []
    },
    {
      "cell_type": "code",
      "metadata": {
        "id": "r_pOxTQxjSa5"
      },
      "source": [
        "\n",
        "def create_data(X, seq_len, train_size=0.9):\n",
        "    X_mat = X.values\n",
        "    sequence_length = seq_len + 1\n",
        "    data = []\n",
        "    \n",
        "    for i in range(len(X_mat) - sequence_length):\n",
        "        data.append(X_mat[i: i + sequence_length])\n",
        "    \n",
        "    data = np.array(data)\n",
        "\n",
        "    train_split = int(round(train_size * data.shape[0]))\n",
        "    train_data = data[:train_split, :]\n",
        "\n",
        "    x_train = train_data[:, :-1]\n",
        "    y_train = train_data[:, -1][:,-1]\n",
        "\n",
        "    return x_train, y_train\n"
      ],
      "execution_count": null,
      "outputs": []
    },
    {
      "cell_type": "code",
      "metadata": {
        "colab": {
          "base_uri": "https://localhost:8080/"
        },
        "id": "6OQHr6ETroFX",
        "outputId": "51b881df-d88e-44f1-f57b-3ace0258aad0"
      },
      "source": [
        "#add column close \n",
        "X['Close'] = y\n",
        "X_totest['Close'] = y_totest\n",
        "\n",
        "#train test split\n",
        "X_train, y_train = create_data(X, window)\n",
        "\n",
        "print (X_train[0], y_train[0])    #print first value\n",
        "\n",
        "X_test,y_test = create_data(X_totest, window)\n"
      ],
      "execution_count": null,
      "outputs": [
        {
          "output_type": "stream",
          "text": [
            "np (2471, 22, 5)\n",
            "[[0.06807347 0.07810773 0.06065089 0.35122061 0.07163682]\n",
            " [0.06632081 0.0816989  0.06029868 0.2874084  0.07087325]\n",
            " [0.06071228 0.07941989 0.06311637 0.19798075 0.0746911 ]\n",
            " [0.07858946 0.09606354 0.0781206  0.23147314 0.0916979 ]\n",
            " [0.07964105 0.09585635 0.07262609 0.18588618 0.08322921]\n",
            " [0.07298093 0.09406077 0.07171034 0.14649458 0.08558934]\n",
            " [0.08153393 0.09599448 0.07657087 0.14906463 0.08628349]\n",
            " [0.07767807 0.09599448 0.07058326 0.12013026 0.08211856]\n",
            " [0.07192933 0.08977901 0.0669907  0.18804775 0.07934194]\n",
            " [0.0705272  0.09005525 0.06494787 0.25068216 0.07816188]\n",
            " [0.07893999 0.0968232  0.075796   0.32799141 0.08829654]\n",
            " [0.07992148 0.09337017 0.07361229 0.17314825 0.07878662]\n",
            " [0.07220976 0.08114641 0.06417301 0.24567141 0.06677773]\n",
            " [0.06022154 0.0788674  0.05621302 0.16055669 0.06712481]\n",
            " [0.06064218 0.07803867 0.05783319 0.15902146 0.06323754]\n",
            " [0.05825855 0.07672652 0.05409975 0.16941401 0.06365403]\n",
            " [0.06141335 0.0765884  0.05431107 0.21829268 0.06233514]\n",
            " [0.05615536 0.07769337 0.05515638 0.16019245 0.0644176 ]\n",
            " [0.0523696  0.07396409 0.05543815 0.13369878 0.06865195]\n",
            " [0.06141335 0.08059392 0.05677656 0.18293828 0.06636124]\n",
            " [0.05720695 0.07700276 0.05846717 0.1368305  0.07080383]\n",
            " [0.06106282 0.07872928 0.05388842 0.16341268 0.06587533]] 0.057128974038595015\n",
            "np (205, 22, 5)\n"
          ],
          "name": "stdout"
        }
      ]
    },
    {
      "cell_type": "markdown",
      "metadata": {
        "id": "l2_oFHHZ3DAz"
      },
      "source": [
        "BUILD MODEL"
      ]
    },
    {
      "cell_type": "code",
      "metadata": {
        "id": "8aLY6-ouwoFB"
      },
      "source": [
        "def build_model(input_shape):\n",
        "    d = 0.2\n",
        "    model = Sequential()\n",
        "    \n",
        "    model.add(LSTM(128, input_shape=input_shape, return_sequences=True))\n",
        "    model.add(Dropout(d))\n",
        "        \n",
        "    model.add(LSTM(128, input_shape=input_shape, return_sequences=False))\n",
        "    model.add(Dropout(d))\n",
        "        \n",
        "    model.add(Dense(32,kernel_initializer=\"uniform\",activation='relu'))        \n",
        "    model.add(Dense(1,kernel_initializer=\"uniform\",activation='linear'))\n",
        "    \n",
        "    model.compile(loss='mse',optimizer='adam', metrics=['accuracy'])\n",
        "    return model"
      ],
      "execution_count": null,
      "outputs": []
    },
    {
      "cell_type": "code",
      "metadata": {
        "id": "tEgmmk-V5wZt"
      },
      "source": [
        "model = build_model(input_shape=(window, 5))"
      ],
      "execution_count": null,
      "outputs": []
    },
    {
      "cell_type": "code",
      "metadata": {
        "colab": {
          "background_save": true
        },
        "id": "pjYOGl9J54kC",
        "outputId": "5dbbcbea-ba2f-49df-e877-46ea58379423"
      },
      "source": [
        "model.fit(X_train, y_train, batch_size=32, epochs=300, verbose=0)"
      ],
      "execution_count": null,
      "outputs": [
        {
          "output_type": "execute_result",
          "data": {
            "text/plain": [
              "<tensorflow.python.keras.callbacks.History at 0x7f1a213ac3d0>"
            ]
          },
          "metadata": {
            "tags": []
          },
          "execution_count": 0
        }
      ]
    },
    {
      "cell_type": "markdown",
      "metadata": {
        "id": "R1R9ahUg40_R"
      },
      "source": [
        "Predictions:"
      ]
    },
    {
      "cell_type": "code",
      "metadata": {
        "colab": {
          "background_save": true
        },
        "id": "dOl0E5gZ4MCD",
        "outputId": "312563a2-20be-42ca-d62b-92615ad7b379"
      },
      "source": [
        "y_pred = model.predict(X_test)\n",
        "y_pred[:6]"
      ],
      "execution_count": null,
      "outputs": [
        {
          "output_type": "execute_result",
          "data": {
            "text/plain": [
              "array([[0.8243894 ],\n",
              "       [0.8494699 ],\n",
              "       [0.8471469 ],\n",
              "       [0.9041243 ],\n",
              "       [0.86475563],\n",
              "       [0.886044  ]], dtype=float32)"
            ]
          },
          "metadata": {
            "tags": []
          },
          "execution_count": 0
        }
      ]
    },
    {
      "cell_type": "code",
      "metadata": {
        "colab": {
          "background_save": true
        },
        "id": "s1TAHXfs6l9v",
        "outputId": "a770d4dd-feae-4485-e4bc-ef3a90f2bfb6"
      },
      "source": [
        "y_pred = scaler.inverse_transform(y_pred)\n",
        "y_actual = scaler.inverse_transform([y_test])\n",
        "y_pred[:6]"
      ],
      "execution_count": null,
      "outputs": [
        {
          "output_type": "execute_result",
          "data": {
            "text/plain": [
              "array([[174.53046],\n",
              "       [175.5901 ],\n",
              "       [175.49197],\n",
              "       [177.89926],\n",
              "       [176.23593],\n",
              "       [177.13536]], dtype=float32)"
            ]
          },
          "metadata": {
            "tags": []
          },
          "execution_count": 0
        }
      ]
    },
    {
      "cell_type": "code",
      "metadata": {
        "colab": {
          "background_save": true
        },
        "id": "D8ELmiiT7OMa"
      },
      "source": [
        "pred = y_pred.reshape(y_pred.shape[0],1)\n",
        "actual = y_actual.reshape(y_actual.shape[1],1)"
      ],
      "execution_count": null,
      "outputs": []
    },
    {
      "cell_type": "code",
      "metadata": {
        "colab": {
          "background_save": true
        },
        "id": "V1D7vm2rIyfN",
        "outputId": "ffcf0cdf-3c8e-4d14-a985-3b1ed81d688a"
      },
      "source": [
        "print(pred[:6])\n",
        "print(actual[:6])"
      ],
      "execution_count": null,
      "outputs": [
        {
          "output_type": "stream",
          "text": [
            "[[174.53046]\n",
            " [175.5901 ]\n",
            " [175.49197]\n",
            " [177.89926]\n",
            " [176.23593]\n",
            " [177.13536]]\n",
            "[[175.82]\n",
            " [175.86]\n",
            " [178.46]\n",
            " [176.17]\n",
            " [177.21]\n",
            " [178.68]]\n"
          ],
          "name": "stdout"
        }
      ]
    },
    {
      "cell_type": "code",
      "metadata": {
        "colab": {
          "base_uri": "https://localhost:8080/",
          "height": 483
        },
        "id": "ndqktiFt7i0F",
        "outputId": "9d60ad06-ab63-465d-9572-19667770e13c"
      },
      "source": [
        " plt.figure(figsize=(20,8))\n",
        "\n",
        "plt.plot(pd.DataFrame(pred), label='Predicted')\n",
        "plt.plot(pd.DataFrame(actual), label='Actual')\n",
        "#plt.x\n",
        "plt.legend(loc='best')\n",
        "plt.show()"
      ],
      "execution_count": null,
      "outputs": [
        {
          "output_type": "display_data",
          "data": {
            "image/png": "[encoded data removed]",
            "text/plain": [
              "<Figure size 1440x576 with 1 Axes>"
            ]
          },
          "metadata": {
            "tags": [],
            "needs_background": "light"
          }
        }
      ]
    }
  ]
}